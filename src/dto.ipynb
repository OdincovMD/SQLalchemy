{
 "cells": [
  {
   "cell_type": "code",
   "execution_count": 1,
   "metadata": {},
   "outputs": [],
   "source": [
    "from sqlalchemy import select, func, and_, or_, Integer\n",
    "from sqlalchemy.orm import selectinload\n",
    "\n",
    "from models import WorkersOrm, ResumesOrm, Workload\n",
    "from schemas import ResumesDTO, ResumesRelDTO, WorkersDTO, WorkersRelDTO\n",
    "from database import session_factory, sync_engine\n",
    "\n",
    "from pydantic import BaseModel"
   ]
  },
  {
   "cell_type": "markdown",
   "metadata": {},
   "source": [
    "#### Без relationship"
   ]
  },
  {
   "cell_type": "code",
   "execution_count": 3,
   "metadata": {},
   "outputs": [
    {
     "name": "stdout",
     "output_type": "stream",
     "text": [
      "result_orm=[<WorkersOrm id=1,username=Bobr>, <WorkersOrm id=2,username=Misha>]\n",
      "result_dto=[WorkersDTO(username='Bobr', id=1), WorkersDTO(username='Misha', id=2)]\n"
     ]
    }
   ],
   "source": [
    "with session_factory() as session:\n",
    "    query = (\n",
    "        select(WorkersOrm)\n",
    "        .limit(2)\n",
    "    )\n",
    "\n",
    "    res = session.execute(query)\n",
    "    result_orm = res.scalars().all()\n",
    "    print(f\"{result_orm=}\")\n",
    "    result_dto = [WorkersDTO.model_validate(row, from_attributes=True ) for row in result_orm] #from_attributes - обращение к атрибутам класса - конвертация к json\n",
    "    print(f\"{result_dto=}\")"
   ]
  },
  {
   "cell_type": "markdown",
   "metadata": {},
   "source": [
    "#### C relationship"
   ]
  },
  {
   "cell_type": "code",
   "execution_count": 4,
   "metadata": {},
   "outputs": [
    {
     "name": "stdout",
     "output_type": "stream",
     "text": [
      "result_orm=[<WorkersOrm id=1,username=Bobr>, <WorkersOrm id=2,username=Misha>]\n",
      "result_dto=[WorkersRelDTO(username='Bobr', id=1, resumes=[ResumesDTO(title='Python Junior Developer', compensation=50000, workload=<Workload.fulltime: 'fulltime'>, worker_id=1, id=1, created_at=datetime.datetime(2024, 7, 26, 0, 48, 40), updated_at=datetime.datetime(2024, 7, 26, 0, 48, 40)), ResumesDTO(title='Python Разработчик', compensation=150000, workload=<Workload.fulltime: 'fulltime'>, worker_id=1, id=2, created_at=datetime.datetime(2024, 7, 26, 0, 48, 40), updated_at=datetime.datetime(2024, 7, 26, 0, 48, 40))]), WorkersRelDTO(username='Misha', id=2, resumes=[ResumesDTO(title='Python Data Engineer', compensation=250000, workload=<Workload.fulltime: 'fulltime'>, worker_id=2, id=3, created_at=datetime.datetime(2024, 7, 26, 0, 48, 40), updated_at=datetime.datetime(2024, 7, 26, 0, 48, 40)), ResumesDTO(title='Data Scientist', compensation=300000, workload=<Workload.fulltime: 'fulltime'>, worker_id=2, id=4, created_at=datetime.datetime(2024, 7, 26, 0, 48, 40), updated_at=datetime.datetime(2024, 7, 26, 0, 48, 40))])]\n"
     ]
    }
   ],
   "source": [
    "with session_factory() as session:\n",
    "    query = (\n",
    "        select(WorkersOrm)\n",
    "        .options(selectinload(WorkersOrm.resumes))\n",
    "        .limit(2)\n",
    "    )\n",
    "\n",
    "    res = session.execute(query)\n",
    "    result_orm = res.scalars().all()\n",
    "    print(f\"{result_orm=}\")\n",
    "    result_dto = [WorkersRelDTO.model_validate(row, from_attributes=True) for row in result_orm] # рекурсивная конвертация\n",
    "    print(f\"{result_dto=}\")"
   ]
  },
  {
   "cell_type": "markdown",
   "metadata": {},
   "source": [
    "#### JOIN"
   ]
  },
  {
   "cell_type": "code",
   "execution_count": 5,
   "metadata": {},
   "outputs": [],
   "source": [
    "class WorkloadAvgCompensationDTO(BaseModel):\n",
    "    workload: Workload\n",
    "    avg_compensation: int"
   ]
  },
  {
   "cell_type": "code",
   "execution_count": 8,
   "metadata": {},
   "outputs": [
    {
     "name": "stdout",
     "output_type": "stream",
     "text": [
      "result_orm=[('fulltime', 150000)]\n",
      "result_dto=[WorkloadAvgCompensationDTO(workload=<Workload.fulltime: 'fulltime'>, avg_compensation=150000)]\n"
     ]
    }
   ],
   "source": [
    "with session_factory() as session:\n",
    "    query = (\n",
    "        select(\n",
    "            ResumesOrm.workload,\n",
    "            func.avg(ResumesOrm.compensation).cast(Integer).label(\"avg_compensation\"),\n",
    "        )\n",
    "        .select_from(ResumesOrm)\n",
    "        .filter(and_(\n",
    "            ResumesOrm.title.contains(\"Python\"),\n",
    "            ResumesOrm.compensation > 40000,\n",
    "        ))\n",
    "        .group_by(ResumesOrm.workload)\n",
    "        .having(func.avg(ResumesOrm.compensation) > 70000)\n",
    "    )\n",
    "    res = session.execute(query)\n",
    "    result_orm = res.all()\n",
    "    print(f\"{result_orm=}\")\n",
    "    result_dto = [WorkloadAvgCompensationDTO.model_validate(row, from_attributes=True) for row in result_orm]\n",
    "    print(f\"{result_dto=}\")"
   ]
  }
 ],
 "metadata": {
  "kernelspec": {
   "display_name": "venv",
   "language": "python",
   "name": "python3"
  },
  "language_info": {
   "codemirror_mode": {
    "name": "ipython",
    "version": 3
   },
   "file_extension": ".py",
   "mimetype": "text/x-python",
   "name": "python",
   "nbconvert_exporter": "python",
   "pygments_lexer": "ipython3",
   "version": "3.12.3"
  }
 },
 "nbformat": 4,
 "nbformat_minor": 2
}
